{
 "cells": [
  {
   "cell_type": "markdown",
   "metadata": {},
   "source": [
    "TESTING MODULE"
   ]
  },
  {
   "cell_type": "code",
   "execution_count": null,
   "metadata": {},
   "outputs": [],
   "source": [
    "from modules.stt import SpeechToText\n",
    "stt = SpeechToText()"
   ]
  },
  {
   "cell_type": "code",
   "execution_count": null,
   "metadata": {},
   "outputs": [],
   "source": [
    "stt.speak(\"Hello. I am calling from University of Wollongong in Dubai.\")"
   ]
  },
  {
   "cell_type": "code",
   "execution_count": null,
   "metadata": {},
   "outputs": [],
   "source": [
    "from sentence_transformers import SentenceTransformer, util\n",
    "import glob\n",
    "import pandas as pd\n",
    "import numpy as np\n",
    "from lingualytics.preprocessing import remove_lessthan, remove_punctuation  #, remove_stopwords\n",
    "from texthero.preprocessing import remove_digits\n",
    "\n"
   ]
  },
  {
   "cell_type": "code",
   "execution_count": null,
   "metadata": {},
   "outputs": [],
   "source": [
    "user_query = \"Do you have marketing\""
   ]
  },
  {
   "cell_type": "code",
   "execution_count": null,
   "metadata": {},
   "outputs": [],
   "source": [
    "model = SentenceTransformer('all-MiniLM-L6-v2')\n",
    "csv_list = glob.glob(\"training_csv/*.csv\")\n",
    "\n",
    "df = pd.concat((pd.read_csv(f) for f in csv_list), ignore_index=True)\n",
    "df['Q'] = df['Q'].pipe(remove_punctuation).pipe(remove_digits)\n",
    "q_embs = model.encode(df['Q'])\n",
    "\n",
    "user_embs = model.encode(user_query)\n",
    "\n",
    "similarity_scores = util.pytorch_cos_sim(q_embs, user_embs)\n",
    "\n",
    "matched = np.argmax(similarity_scores)\n",
    "print(matched)\n",
    "print(similarity_scores[matched])\n",
    "\n",
    "print(df.at[matched.item(), 'Q'])\n",
    "print(df.at[matched.item(), 'A'])"
   ]
  },
  {
   "cell_type": "code",
   "execution_count": null,
   "metadata": {},
   "outputs": [],
   "source": [
    "model = SentenceTransformer('paraphrase-MiniLM-L6-v2')\n",
    "csv_list = glob.glob(\"training_csv/*.csv\")\n",
    "\n",
    "df = pd.concat((pd.read_csv(f) for f in csv_list), ignore_index=True)\n",
    "df['Q'] = df['Q'].pipe(remove_punctuation).pipe(remove_digits)\n",
    "q_embs = model.encode(df['Q'])\n",
    "\n",
    "user_embs = model.encode(user_query)\n",
    "\n",
    "similarity_scores = util.pytorch_cos_sim(q_embs, user_embs)\n",
    "\n",
    "matched = np.argmax(similarity_scores)\n",
    "print(matched)\n",
    "print(similarity_scores[matched])\n",
    "\n",
    "print(df.at[matched.item(), 'Q'])\n",
    "print(df.at[matched.item(), 'A'])"
   ]
  },
  {
   "attachments": {},
   "cell_type": "markdown",
   "metadata": {},
   "source": [
    "TTS"
   ]
  },
  {
   "cell_type": "code",
   "execution_count": 8,
   "metadata": {},
   "outputs": [],
   "source": [
    "from os.path import join, dirname\n",
    "from ibm_watson import TextToSpeechV1\n",
    "from ibm_cloud_sdk_core.authenticators import IAMAuthenticator\n",
    "\n",
    "IBM_TTS_API_KEY = \"L8bxBobP_kxcJzV9y4oRIzSaJezhN75p5nui9iU0o0FR\"\n",
    "IBM_TTS_URL = \"https://api.au-syd.text-to-speech.watson.cloud.ibm.com/instances/06872bf4-bff3-4f44-95c4-0a8db5a039d8\"\n"
   ]
  },
  {
   "cell_type": "code",
   "execution_count": 18,
   "metadata": {},
   "outputs": [],
   "source": [
    "authenticator = IAMAuthenticator(IBM_TTS_API_KEY)\n",
    "ibm_tts = TextToSpeechV1(authenticator=authenticator)\n",
    "ibm_tts.set_service_url(IBM_TTS_URL)\n",
    "\n",
    "with open(\"files/beginning_time.mp3\", \"wb\") as audio_file:\n",
    "    audio_file.write(ibm_tts.synthesize(\"Do you have some spare time to talk to me?\", voice='en-US_EmmaExpressive', accept=\"audio/mp3\").get_result().content)\n",
    "\n"
   ]
  },
  {
   "cell_type": "code",
   "execution_count": 6,
   "metadata": {},
   "outputs": [],
   "source": [
    "import os\n",
    "os.remove(os.getcwd() + \"\\\\files\\\\speech.mp3\")"
   ]
  },
  {
   "cell_type": "code",
   "execution_count": 5,
   "metadata": {},
   "outputs": [],
   "source": [
    "from pygame import mixer\n",
    "mixer.init()"
   ]
  },
  {
   "cell_type": "code",
   "execution_count": 3,
   "metadata": {},
   "outputs": [
    {
     "ename": "NameError",
     "evalue": "name 'mixer' is not defined",
     "output_type": "error",
     "traceback": [
      "\u001b[1;31m---------------------------------------------------------------------------\u001b[0m",
      "\u001b[1;31mNameError\u001b[0m                                 Traceback (most recent call last)",
      "\u001b[1;32m~\\AppData\\Local\\Temp\\ipykernel_16068\\1349456586.py\u001b[0m in \u001b[0;36m<module>\u001b[1;34m\u001b[0m\n\u001b[1;32m----> 1\u001b[1;33m \u001b[0mmixer\u001b[0m\u001b[1;33m.\u001b[0m\u001b[0mmusic\u001b[0m\u001b[1;33m.\u001b[0m\u001b[0mload\u001b[0m\u001b[1;33m(\u001b[0m\u001b[1;34m\"files/speech.mp3\"\u001b[0m\u001b[1;33m)\u001b[0m\u001b[1;33m\u001b[0m\u001b[1;33m\u001b[0m\u001b[0m\n\u001b[0m\u001b[0;32m      2\u001b[0m \u001b[0mmixer\u001b[0m\u001b[1;33m.\u001b[0m\u001b[0mmusic\u001b[0m\u001b[1;33m.\u001b[0m\u001b[0mplay\u001b[0m\u001b[1;33m(\u001b[0m\u001b[1;33m)\u001b[0m\u001b[1;33m\u001b[0m\u001b[1;33m\u001b[0m\u001b[0m\n",
      "\u001b[1;31mNameError\u001b[0m: name 'mixer' is not defined"
     ]
    }
   ],
   "source": [
    "mixer.music.load(\"files/speech.mp3\")\n",
    "mixer.music.play()"
   ]
  },
  {
   "cell_type": "code",
   "execution_count": 7,
   "metadata": {},
   "outputs": [],
   "source": [
    "mixer.music.stop()"
   ]
  },
  {
   "cell_type": "code",
   "execution_count": 19,
   "metadata": {},
   "outputs": [],
   "source": [
    "import multiprocessing\n",
    "from playsound import playsound\n",
    "\n",
    "p = multiprocessing.Process(target=playsound, args=(\"files/beginning_time.mp3\",))\n",
    "p.start()\n"
   ]
  },
  {
   "cell_type": "code",
   "execution_count": null,
   "metadata": {},
   "outputs": [],
   "source": [
    "p.terminate()\n"
   ]
  },
  {
   "attachments": {},
   "cell_type": "markdown",
   "metadata": {},
   "source": [
    "Sentence Things\n"
   ]
  },
  {
   "cell_type": "code",
   "execution_count": null,
   "metadata": {},
   "outputs": [],
   "source": [
    "from modules.stt import *\n",
    "import numpy as np\n"
   ]
  },
  {
   "cell_type": "code",
   "execution_count": null,
   "metadata": {},
   "outputs": [],
   "source": [
    "from nltk.corpus import wordnet"
   ]
  },
  {
   "cell_type": "code",
   "execution_count": null,
   "metadata": {},
   "outputs": [],
   "source": [
    "synonyms = []\n",
    "\n",
    "for syn in wordnet.synsets(\"yes\"):\n",
    "    for i in syn.lemmas():\n",
    "        synonyms.append(i.name())\n",
    "\n",
    "print(set(synonyms))\n"
   ]
  },
  {
   "cell_type": "code",
   "execution_count": null,
   "metadata": {},
   "outputs": [],
   "source": [
    "stt = SpeechToText()\n",
    "stt.print_dialogue_text(\"\", \"Hello. I am calling from University of Wollongong in Dubai.\", 1)"
   ]
  },
  {
   "cell_type": "code",
   "execution_count": null,
   "metadata": {},
   "outputs": [],
   "source": [
    "from gensim.parsing.preprocessing import remove_stopwords\n",
    "from sentence_transformers import SentenceTransformer, util\n",
    "from nltk.tokenize import word_tokenize\n",
    "\n",
    "YES = ['yea', 'yes', 'yeap', 'yeah', 'affirmative', 'fine', 'okay', 'true', 'alright', 'all right', 'aye', 'by all means', 'certainly', 'definitely', 'exactly', 'gladly', 'most assuredly', 'naturally', 'of course', 'ofcourse', 'positively', 'sure thing', 'surely', 'undoubtedly', 'very well', 'without fail']\n",
    "\n",
    "model = SentenceTransformer('paraphrase-MiniLM-L3-v2')\n",
    "yes_embeds = model.encode(YES)\n"
   ]
  },
  {
   "cell_type": "code",
   "execution_count": null,
   "metadata": {},
   "outputs": [],
   "source": [
    "query = \"yeah i do\"\n",
    "query = query.split()\n",
    "\n",
    "query_filtered = ' '.join([str(item) for item in query if item in YES])\n",
    "query_filtered_embeds = model.encode(query_filtered)\n",
    "\n",
    "\n",
    "simi = util.pytorch_cos_sim(query_filtered_embeds, yes_embeds)\n",
    "closest_match = np.argmax(simi)\n",
    "simi[0][closest_match]"
   ]
  },
  {
   "cell_type": "code",
   "execution_count": 7,
   "metadata": {},
   "outputs": [
    {
     "name": "stdout",
     "output_type": "stream",
     "text": [
      "ha\n"
     ]
    }
   ],
   "source": [
    "a = 5\n",
    "if a != 10:\n",
    "    print(\"ha\")"
   ]
  },
  {
   "cell_type": "code",
   "execution_count": null,
   "metadata": {},
   "outputs": [],
   "source": []
  },
  {
   "cell_type": "code",
   "execution_count": 15,
   "metadata": {},
   "outputs": [
    {
     "data": {
      "text/plain": [
       "33"
      ]
     },
     "execution_count": 15,
     "metadata": {},
     "output_type": "execute_result"
    }
   ],
   "source": [
    "from mutagen.mp3 import MP3\n",
    "audio = MP3(\"audio_files/beginning_intro.mp3\")\n",
    "audio_info = audio.info\n",
    "length = int(audio_info.length)\n",
    "length"
   ]
  }
 ],
 "metadata": {
  "kernelspec": {
   "display_name": "Python 3.9.15 ('FAQBot')",
   "language": "python",
   "name": "python3"
  },
  "language_info": {
   "codemirror_mode": {
    "name": "ipython",
    "version": 3
   },
   "file_extension": ".py",
   "mimetype": "text/x-python",
   "name": "python",
   "nbconvert_exporter": "python",
   "pygments_lexer": "ipython3",
   "version": "3.9.15 (main, Nov  4 2022, 16:35:55) [MSC v.1916 64 bit (AMD64)]"
  },
  "orig_nbformat": 4,
  "vscode": {
   "interpreter": {
    "hash": "3346a3b6a9ad09be472cd9112a9fa9fc88867614b8a3565d989b55645d3bf5c6"
   }
  }
 },
 "nbformat": 4,
 "nbformat_minor": 2
}
